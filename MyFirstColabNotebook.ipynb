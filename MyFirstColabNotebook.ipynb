{
  "nbformat": 4,
  "nbformat_minor": 0,
  "metadata": {
    "colab": {
      "provenance": [],
      "authorship_tag": "ABX9TyOeCMg9a7KntlupfGJra3sQ",
      "include_colab_link": true
    },
    "kernelspec": {
      "name": "python3",
      "display_name": "Python 3"
    },
    "language_info": {
      "name": "python"
    },
    "widgets": {
      "application/vnd.jupyter.widget-state+json": {
        "ffe194579d2640858f0d08044f1be288": {
          "model_module": "@jupyter-widgets/controls",
          "model_name": "ButtonModel",
          "model_module_version": "1.5.0",
          "state": {
            "_dom_classes": [],
            "_model_module": "@jupyter-widgets/controls",
            "_model_module_version": "1.5.0",
            "_model_name": "ButtonModel",
            "_view_count": null,
            "_view_module": "@jupyter-widgets/controls",
            "_view_module_version": "1.5.0",
            "_view_name": "ButtonView",
            "button_style": "",
            "description": "clickme!",
            "disabled": false,
            "icon": "",
            "layout": "IPY_MODEL_a23dd12b375e46ae8a6d2fde69ad595b",
            "style": "IPY_MODEL_98fdf69ce98c42569a08df8b86cd3be5",
            "tooltip": ""
          }
        },
        "a23dd12b375e46ae8a6d2fde69ad595b": {
          "model_module": "@jupyter-widgets/base",
          "model_name": "LayoutModel",
          "model_module_version": "1.2.0",
          "state": {
            "_model_module": "@jupyter-widgets/base",
            "_model_module_version": "1.2.0",
            "_model_name": "LayoutModel",
            "_view_count": null,
            "_view_module": "@jupyter-widgets/base",
            "_view_module_version": "1.2.0",
            "_view_name": "LayoutView",
            "align_content": null,
            "align_items": null,
            "align_self": null,
            "border": null,
            "bottom": null,
            "display": null,
            "flex": null,
            "flex_flow": null,
            "grid_area": null,
            "grid_auto_columns": null,
            "grid_auto_flow": null,
            "grid_auto_rows": null,
            "grid_column": null,
            "grid_gap": null,
            "grid_row": null,
            "grid_template_areas": null,
            "grid_template_columns": null,
            "grid_template_rows": null,
            "height": null,
            "justify_content": null,
            "justify_items": null,
            "left": null,
            "margin": null,
            "max_height": null,
            "max_width": null,
            "min_height": null,
            "min_width": null,
            "object_fit": null,
            "object_position": null,
            "order": null,
            "overflow": null,
            "overflow_x": null,
            "overflow_y": null,
            "padding": null,
            "right": null,
            "top": null,
            "visibility": null,
            "width": null
          }
        },
        "98fdf69ce98c42569a08df8b86cd3be5": {
          "model_module": "@jupyter-widgets/controls",
          "model_name": "ButtonStyleModel",
          "model_module_version": "1.5.0",
          "state": {
            "_model_module": "@jupyter-widgets/controls",
            "_model_module_version": "1.5.0",
            "_model_name": "ButtonStyleModel",
            "_view_count": null,
            "_view_module": "@jupyter-widgets/base",
            "_view_module_version": "1.2.0",
            "_view_name": "StyleView",
            "button_color": null,
            "font_weight": ""
          }
        },
        "6c53d62eace44713a26de1ab6d32702a": {
          "model_module": "@jupyter-widgets/output",
          "model_name": "OutputModel",
          "model_module_version": "1.0.0",
          "state": {
            "_dom_classes": [],
            "_model_module": "@jupyter-widgets/output",
            "_model_module_version": "1.0.0",
            "_model_name": "OutputModel",
            "_view_count": null,
            "_view_module": "@jupyter-widgets/output",
            "_view_module_version": "1.0.0",
            "_view_name": "OutputView",
            "layout": "IPY_MODEL_683b8d0530f642ab899eb24133ba6e7e",
            "msg_id": "",
            "outputs": [
              {
                "output_type": "stream",
                "name": "stdout",
                "text": [
                  "This is some example text.\n",
                  "This is some more example text.\n"
                ]
              }
            ]
          }
        },
        "683b8d0530f642ab899eb24133ba6e7e": {
          "model_module": "@jupyter-widgets/base",
          "model_name": "LayoutModel",
          "model_module_version": "1.2.0",
          "state": {
            "_model_module": "@jupyter-widgets/base",
            "_model_module_version": "1.2.0",
            "_model_name": "LayoutModel",
            "_view_count": null,
            "_view_module": "@jupyter-widgets/base",
            "_view_module_version": "1.2.0",
            "_view_name": "LayoutView",
            "align_content": null,
            "align_items": null,
            "align_self": null,
            "border": null,
            "bottom": null,
            "display": null,
            "flex": null,
            "flex_flow": null,
            "grid_area": null,
            "grid_auto_columns": null,
            "grid_auto_flow": null,
            "grid_auto_rows": null,
            "grid_column": null,
            "grid_gap": null,
            "grid_row": null,
            "grid_template_areas": null,
            "grid_template_columns": null,
            "grid_template_rows": null,
            "height": null,
            "justify_content": null,
            "justify_items": null,
            "left": null,
            "margin": null,
            "max_height": null,
            "max_width": null,
            "min_height": null,
            "min_width": null,
            "object_fit": null,
            "object_position": null,
            "order": null,
            "overflow": null,
            "overflow_x": null,
            "overflow_y": null,
            "padding": null,
            "right": null,
            "top": null,
            "visibility": null,
            "width": null
          }
        },
        "a7e15af14a0f486fa65b01837349802f": {
          "model_module": "@jupyter-widgets/controls",
          "model_name": "IntSliderModel",
          "model_module_version": "1.5.0",
          "state": {
            "_dom_classes": [],
            "_model_module": "@jupyter-widgets/controls",
            "_model_module_version": "1.5.0",
            "_model_name": "IntSliderModel",
            "_view_count": null,
            "_view_module": "@jupyter-widgets/controls",
            "_view_module_version": "1.5.0",
            "_view_name": "IntSliderView",
            "continuous_update": true,
            "description": "",
            "description_tooltip": null,
            "disabled": false,
            "layout": "IPY_MODEL_87171899dd344ec599e24ae3d2e61459",
            "max": 10,
            "min": 0,
            "orientation": "horizontal",
            "readout": true,
            "readout_format": "d",
            "step": 1,
            "style": "IPY_MODEL_97dc0856a776408493930d220a439e30",
            "value": 10
          }
        },
        "87171899dd344ec599e24ae3d2e61459": {
          "model_module": "@jupyter-widgets/base",
          "model_name": "LayoutModel",
          "model_module_version": "1.2.0",
          "state": {
            "_model_module": "@jupyter-widgets/base",
            "_model_module_version": "1.2.0",
            "_model_name": "LayoutModel",
            "_view_count": null,
            "_view_module": "@jupyter-widgets/base",
            "_view_module_version": "1.2.0",
            "_view_name": "LayoutView",
            "align_content": null,
            "align_items": null,
            "align_self": null,
            "border": null,
            "bottom": null,
            "display": null,
            "flex": null,
            "flex_flow": null,
            "grid_area": null,
            "grid_auto_columns": null,
            "grid_auto_flow": null,
            "grid_auto_rows": null,
            "grid_column": null,
            "grid_gap": null,
            "grid_row": null,
            "grid_template_areas": null,
            "grid_template_columns": null,
            "grid_template_rows": null,
            "height": null,
            "justify_content": null,
            "justify_items": null,
            "left": null,
            "margin": null,
            "max_height": null,
            "max_width": null,
            "min_height": null,
            "min_width": null,
            "object_fit": null,
            "object_position": null,
            "order": null,
            "overflow": null,
            "overflow_x": null,
            "overflow_y": null,
            "padding": null,
            "right": null,
            "top": null,
            "visibility": null,
            "width": null
          }
        },
        "97dc0856a776408493930d220a439e30": {
          "model_module": "@jupyter-widgets/controls",
          "model_name": "SliderStyleModel",
          "model_module_version": "1.5.0",
          "state": {
            "_model_module": "@jupyter-widgets/controls",
            "_model_module_version": "1.5.0",
            "_model_name": "SliderStyleModel",
            "_view_count": null,
            "_view_module": "@jupyter-widgets/base",
            "_view_module_version": "1.2.0",
            "_view_name": "StyleView",
            "description_width": "",
            "handle_color": null
          }
        }
      }
    }
  },
  "cells": [
    {
      "cell_type": "markdown",
      "metadata": {
        "id": "view-in-github",
        "colab_type": "text"
      },
      "source": [
        "<a href=\"https://colab.research.google.com/github/bashar110/colab/blob/main/MyFirstColabNotebook.ipynb\" target=\"_parent\"><img src=\"https://colab.research.google.com/assets/colab-badge.svg\" alt=\"Open In Colab\"/></a>"
      ]
    },
    {
      "cell_type": "code",
      "execution_count": 35,
      "metadata": {
        "colab": {
          "base_uri": "https://localhost:8080/"
        },
        "id": "Cswn5MWP_0Ak",
        "outputId": "1dbf2316-3930-4da3-a0ae-ce4bf718f972"
      },
      "outputs": [
        {
          "output_type": "stream",
          "name": "stdout",
          "text": [
            "Tue Oct 28 09:31:41 2025\n"
          ]
        }
      ],
      "source": [
        "import time\n",
        "print(time.ctime())\n",
        "\n"
      ]
    },
    {
      "cell_type": "code",
      "source": [
        "time.sleep(3)\n",
        "print (time.ctime())"
      ],
      "metadata": {
        "colab": {
          "base_uri": "https://localhost:8080/"
        },
        "id": "-CR3zcOtArgk",
        "outputId": "bb5f2817-1b68-4a0e-d4d1-dfab252905bd"
      },
      "execution_count": 36,
      "outputs": [
        {
          "output_type": "stream",
          "name": "stdout",
          "text": [
            "Tue Oct 28 09:31:44 2025\n"
          ]
        }
      ]
    },
    {
      "cell_type": "code",
      "source": [
        "!pip install numpy"
      ],
      "metadata": {
        "colab": {
          "base_uri": "https://localhost:8080/"
        },
        "id": "qEmKDhP1FPAd",
        "outputId": "7f95a82e-dd1b-4776-88cf-e8af9ef959c7"
      },
      "execution_count": 37,
      "outputs": [
        {
          "output_type": "stream",
          "name": "stdout",
          "text": [
            "Requirement already satisfied: numpy in /usr/local/lib/python3.12/dist-packages (2.0.2)\n"
          ]
        }
      ]
    },
    {
      "cell_type": "code",
      "source": [
        "from google.colab import drive\n",
        "drive.mount('/content/drive')\n"
      ],
      "metadata": {
        "colab": {
          "base_uri": "https://localhost:8080/"
        },
        "id": "FSHc-9b4FScF",
        "outputId": "1840be07-ad35-4833-c554-23203662cf07"
      },
      "execution_count": 38,
      "outputs": [
        {
          "output_type": "stream",
          "name": "stdout",
          "text": [
            "Drive already mounted at /content/drive; to attempt to forcibly remount, call drive.mount(\"/content/drive\", force_remount=True).\n"
          ]
        }
      ]
    },
    {
      "cell_type": "code",
      "source": [
        "# @title Default title text {\"form-width\":\"33.33%\"}\n",
        "sleeptime = 0 # @param {\"type\":\"integer\"}\n",
        "import numpy as np\n",
        "from matplotlib import pyplot as plt\n",
        "\n",
        "y = np.random.randn(100)\n",
        "x = [x for x in range(len(y))]\n",
        "\n",
        "plt.plot(x, y, '-')\n",
        "plt.fill_between(x, y, 200, where = (y > 195), facecolor='g', alpha=0.6)\n",
        "\n",
        "plt.title(\"Sample Plot\")\n",
        "plt.show( )\n"
      ],
      "metadata": {
        "colab": {
          "base_uri": "https://localhost:8080/",
          "height": 452
        },
        "id": "bsWnsJUEGaCC",
        "outputId": "3c501251-33e6-49cb-e3f0-63abf8bb6536"
      },
      "execution_count": 39,
      "outputs": [
        {
          "output_type": "display_data",
          "data": {
            "text/plain": [
              "<Figure size 640x480 with 1 Axes>"
            ],
            "image/png": "[encoded data removed]"
          },
          "metadata": {}
        }
      ]
    },
    {
      "cell_type": "code",
      "source": [
        "import time\n",
        "sleeptime = 3 # @param {\"type\":\"integer\"}\n",
        "print(time.ctime())\n",
        "time.sleep(sleeptime)\n",
        "print (time.ctime())"
      ],
      "metadata": {
        "colab": {
          "base_uri": "https://localhost:8080/"
        },
        "id": "5-yLa8KfGbF-",
        "outputId": "f792e2ca-d6f4-4390-b0cf-9477fd40a123"
      },
      "execution_count": 41,
      "outputs": [
        {
          "output_type": "stream",
          "name": "stdout",
          "text": [
            "Tue Oct 28 09:32:20 2025\n",
            "Tue Oct 28 09:32:23 2025\n"
          ]
        }
      ]
    },
    {
      "cell_type": "code",
      "source": [
        "name = \"gg\" #@param {type:\"string\"}\n",
        "print(name)\n"
      ],
      "metadata": {
        "colab": {
          "base_uri": "https://localhost:8080/"
        },
        "id": "MR0YWRoJKx3h",
        "outputId": "0cbbf605-9212-4a8f-ec36-c9c33db28fc8"
      },
      "execution_count": 43,
      "outputs": [
        {
          "output_type": "stream",
          "name": "stdout",
          "text": [
            "gg\n"
          ]
        }
      ]
    },
    {
      "cell_type": "code",
      "source": [
        "color = 'red' #@param [\"red\", \"green\", \"blue\"]\n",
        "print(color)\n"
      ],
      "metadata": {
        "colab": {
          "base_uri": "https://localhost:8080/"
        },
        "id": "zfJwvrBGLM7Z",
        "outputId": "48c10eb9-c489-43c2-a256-622c6a1e058d"
      },
      "execution_count": 45,
      "outputs": [
        {
          "output_type": "stream",
          "name": "stdout",
          "text": [
            "red\n"
          ]
        }
      ]
    },
    {
      "cell_type": "code",
      "source": [
        "#@title Date fields\n",
        "date_input = '2025-10-28' #@param {type:\"date\"}\n",
        "print(date_input)\n"
      ],
      "metadata": {
        "colab": {
          "base_uri": "https://localhost:8080/"
        },
        "id": "OVaRRhF6Lwta",
        "outputId": "32e67d67-3035-44fd-ad4d-c55d1d25bebb"
      },
      "execution_count": 46,
      "outputs": [
        {
          "output_type": "stream",
          "name": "stdout",
          "text": [
            "2025-10-28\n"
          ]
        }
      ]
    },
    {
      "cell_type": "code",
      "source": [
        "#@title Default title text\n",
        "%%html\n",
        "<style>\n",
        "body {\n",
        "  background-color: #f2bcca;\n",
        "}\n",
        "</style>\n",
        "color = 'green' #@param [\"red\", \"green\", \"blue\"] print(color)\n",
        "<svg xmlns=\"https://www.w3.org/2000/svg\" viewBox=\"0 0 600 400\" width=\"400\" height=\"400\">\n",
        "   <rect x=\"10\" y=\"00\" width=\"300\" height=\"100\" rx=\"0\" style=\"fill:orange; stroke:black; fill-opacity:1.0\" />\n",
        "   <rect x=\"10\" y=\"100\" width=\"300\" height=\"100\" rx=\"0\" style=\"fill:white; stroke:black; fill-opacity:1.0;\" />\n",
        "   <rect x=\"10\" y=\"200\" width=\"300\" height=\"100\" rx=\"0\" style=\"fill:green; stroke:black; fill-opacity:1.0;\" />\n",
        "</svg>"
      ],
      "metadata": {
        "colab": {
          "base_uri": "https://localhost:8080/",
          "height": 421
        },
        "id": "6-r9OfSoMCkL",
        "outputId": "5ced5c14-c33f-495b-d3d1-c2ebf1470544"
      },
      "execution_count": 49,
      "outputs": [
        {
          "output_type": "display_data",
          "data": {
            "text/plain": [
              "<IPython.core.display.HTML object>"
            ],
            "text/html": [
              "<style>\n",
              "body {\n",
              "  background-color: #f2bcca;\n",
              "}\n",
              "</style>\n",
              "color = 'green' #@param [\"red\", \"green\", \"blue\"] print(color) \n",
              "<svg xmlns=\"https://www.w3.org/2000/svg\" viewBox=\"0 0 600 400\" width=\"400\" height=\"400\">\n",
              "   <rect x=\"10\" y=\"00\" width=\"300\" height=\"100\" rx=\"0\" style=\"fill:orange; stroke:black; fill-opacity:1.0\" />\n",
              "   <rect x=\"10\" y=\"100\" width=\"300\" height=\"100\" rx=\"0\" style=\"fill:white; stroke:black; fill-opacity:1.0;\" />\n",
              "   <rect x=\"10\" y=\"200\" width=\"300\" height=\"100\" rx=\"0\" style=\"fill:green; stroke:black; fill-opacity:1.0;\" />\n",
              "</svg>\n"
            ]
          },
          "metadata": {}
        }
      ]
    },
    {
      "cell_type": "code",
      "source": [
        "cd /content/drive/MyDrive"
      ],
      "metadata": {
        "colab": {
          "base_uri": "https://localhost:8080/"
        },
        "id": "0U-Db2MdNGJh",
        "outputId": "7b382a43-39e8-42f0-91f8-1cafd109b6c0"
      },
      "execution_count": 72,
      "outputs": [
        {
          "output_type": "stream",
          "name": "stdout",
          "text": [
            "/content/drive/MyDrive\n"
          ]
        }
      ]
    },
    {
      "cell_type": "code",
      "source": [
        "!ls /content/drive/MyDrive\n",
        "with open('1.txt', 'r') as file:\n",
        "    contents = file.read()\n",
        "    print(contents)\n",
        "file.close()"
      ],
      "metadata": {
        "colab": {
          "base_uri": "https://localhost:8080/"
        },
        "id": "gvLd32TnPNbn",
        "outputId": "60428b8b-e3f8-4819-a292-fef9b2b09af3"
      },
      "execution_count": 77,
      "outputs": [
        {
          "output_type": "stream",
          "name": "stdout",
          "text": [
            " 16038859826931576414716.jpg\n",
            " 1603886030843965630293.jpg\n",
            "'1667382859788571 (1).pdf'\n",
            " 1667382859788571.pdf\n",
            " 1BfeSFTp0Ns0wn4dwIH6-q93-frVa6U-4\n",
            " 1.txt\n",
            "'2025-03-29 10.25.49 Persönlicher Meetingraum von Christoph Biber.rar'\n",
            "'2025-04-11 14.07.00 Persönlicher Meetingraum von Christoph Biber.rar'\n",
            "'2025-04-23 20.01.44 Persönlicher Meetingraum von Christoph Biber.rar'\n",
            "'2025-05-07 19.00.19 Persönlicher Meetingraum von Christoph Biber.rar'\n",
            " 3C22F3D6-D186-4D4F-819E-9A1F02C59327.png\n",
            " 3fd369d2-c159-4cb6-afec-a1f526f23b70.jpeg\n",
            " 6171c766-ac84-4a31-80a4-2c20d4747e97.jpeg\n",
            " 859c888b-895c-423a-b159-f5fdd7bc2da0.jpeg\n",
            "'8A5E4C92-1596-40F1-BC24-E82F092B50AF.קובץ שנשלח מהמערכת.pdf'\n",
            " a3e791bb-93eb-45fc-84b4-de7adec57d0b.jpeg\n",
            " a66382ac-86ea-49c5-ab36-220d5da73bd9.jpeg\n",
            " Account_management_approval_HE_06.10.2022_10.03.23.pdf\n",
            " Account_management_approval_HE_07.10.2024_14.35.47.pdf\n",
            " Account_management_approval_HE_10.01.2024_09.07.22.pdf\n",
            " Attachment2138208222209181133156742.pdf\n",
            "'BASHAR IBRAHIM.docx'\n",
            "'bashar-project 3.rar'\n",
            "'CamScanner 01-16-2022 10.22 (1).pdf'\n",
            "'CamScanner 01-16-2022 10.22 (2).pdf'\n",
            "'CamScanner 01-16-2022 10.22.pdf'\n",
            "'CamScanner 10-10-2022 14.56 (1).pdf'\n",
            "'CamScanner 10-10-2022 14.56 (2).pdf'\n",
            "'CamScanner 10-10-2022 14.56 (3).pdf'\n",
            "'CamScanner 10-10-2022 14.56.pdf'\n",
            "'CamScanner 10-10-2022 15.00 (1).pdf'\n",
            "'CamScanner 10-10-2022 15.00 (2).pdf'\n",
            "'CamScanner 10-10-2022 15.00.pdf'\n",
            "'CamScanner 10-10-2022 15.03.pdf'\n",
            "'CamScanner 10-10-2022 15.46.pdf'\n",
            "'CamScanner 10-10-2022 16.05(1) (1).pdf'\n",
            "'CamScanner 10-10-2022 16.05(1) (2).pdf'\n",
            "'CamScanner 10-10-2022 16.05(1).pdf'\n",
            "'CamScanner 10-30-2022 23.20.pdf'\n",
            "'Class-diagram (1).pdf'\n",
            " Class-diagram.pdf\n",
            " Classroom\n",
            "'Colab Notebooks'\n",
            " Doc1.docx\n",
            "'FinalProject task 5.rar'\n",
            " G16_Assignment3-ProjectClient.zip\n",
            " G16_Assignment3-ProjectServer.zip\n",
            " HITHAYVOT_24_25.pdf\n",
            " ilovepdf_merged.pdf\n",
            " image002.png\n",
            " IMG_6952.png\n",
            " _JM23294.JPG\n",
            " _JM23302.JPG\n",
            " MOV_0466.mp4\n",
            " WebSite.rar\n",
            "'WhatsApp Image 2024-10-05 at 16.46.44.pdf'\n",
            " YedionPdf_הודעות_01099_05674.pdf\n",
            "'YedionPdf_הודעות_03551_01778 (1).pdf'\n",
            " YedionPdf_הודעות_03551_01778.pdf\n",
            "'אוסטרובסקי. המראות והלשון העגה כבבואה לאתוס הישראלי. חלקת לשון 21, תשנו, 51 – 68.gdoc'\n",
            " בשאר.pdf\n",
            " הבנתנקרא-מעשהבזאב.doc\n",
            " הבנתנקרא-מעשהבזאב.gdoc\n",
            " חדוא2.zip\n",
            "'חומר מל״ת.pdf'\n",
            "'חומר מלת.pdf'\n",
            "'חומר עזר.rar'\n",
            "'טופס ללא כותרת.gform'\n",
            "'סדנות חדוא.rar'\n",
            "'קובץ שנשלח מהמערכת 3 (1).pdf'\n",
            "'קובץ שנשלח מהמערכת 3.pdf'\n",
            "'קורות חיים.docx'\n",
            "'שומת מס 2021 (1).pdf'\n",
            "'שומת מס 2021.pdf'\n",
            " שכר.pdf\n",
            " תז_מאגד.pdf\n",
            "'תלוש בשאר (1).pdf'\n",
            "'תלוש בשאר (2).pdf'\n",
            "'תלוש בשאר.pdf'\n",
            "'תלוש שכר.pdf'\n",
            "'‫امتحان للسادس شهري 3.11.13-الشاي وجامع العلب - نسخة.docx'\n",
            "'‫امتحان للسادس شهري 3.11.13-الشاي وجامع العلب - نسخة.gdoc'\n",
            "'مدنيات (1).docx'\n",
            " مدنيات.docx\n",
            "'‎⁨مستند 5⁩.pdf'\n",
            "'‎⁨مستند 6⁩.pdf'\n",
            "'نسخة من ⁨תרגול מספר 1.pdf⁩.pdf'\n",
            "'��סיכום כל החומר בחדוא �.pdf'\n",
            "one\n",
            "two\n",
            "three\n"
          ]
        }
      ]
    },
    {
      "cell_type": "code",
      "source": [
        "with open('/content/drive/My Drive/1.txt', 'w') as file:\n",
        "    file.write('This is some example text.')\n",
        "with open('/content/drive/My Drive/1.txt', 'a') as file: file.write(\n",
        "   '\\nThis is some more example text.')\n",
        "file.close()\n"
      ],
      "metadata": {
        "id": "zx-facuyP_IC"
      },
      "execution_count": 81,
      "outputs": []
    },
    {
      "cell_type": "code",
      "source": [
        "import ipywidgets as widgets\n",
        "from IPython.display import display\n",
        "button = widgets.Button(description=\"clickme!\")\n",
        "output = widgets.Output()\n",
        "\n",
        "def on_button_clicked(b):\n",
        "  # Display the message within the output widget.\n",
        "  with output:\n",
        "    with open('/content/drive/My Drive/1.txt', 'r') as file:\n",
        "      contents = file.read()\n",
        "      print(contents)\n",
        "\n",
        "button.on_click(on_button_clicked)\n",
        "display(button, output)\n",
        "\n"
      ],
      "metadata": {
        "colab": {
          "base_uri": "https://localhost:8080/",
          "height": 84,
          "referenced_widgets": [
            "ffe194579d2640858f0d08044f1be288",
            "a23dd12b375e46ae8a6d2fde69ad595b",
            "98fdf69ce98c42569a08df8b86cd3be5",
            "6c53d62eace44713a26de1ab6d32702a",
            "683b8d0530f642ab899eb24133ba6e7e"
          ]
        },
        "id": "_VIKpDBoQpXg",
        "outputId": "94ffaa01-a001-4744-b2e8-2d24d37cc4df"
      },
      "execution_count": 84,
      "outputs": [
        {
          "output_type": "display_data",
          "data": {
            "text/plain": [
              "Button(description='clickme!', style=ButtonStyle())"
            ],
            "application/vnd.jupyter.widget-view+json": {
              "version_major": 2,
              "version_minor": 0,
              "model_id": "ffe194579d2640858f0d08044f1be288"
            }
          },
          "metadata": {}
        },
        {
          "output_type": "display_data",
          "data": {
            "text/plain": [
              "Output()"
            ],
            "application/vnd.jupyter.widget-view+json": {
              "version_major": 2,
              "version_minor": 0,
              "model_id": "6c53d62eace44713a26de1ab6d32702a"
            }
          },
          "metadata": {}
        }
      ]
    },
    {
      "cell_type": "code",
      "source": [
        "import ipywidgets as widgets\n",
        "slider = widgets.IntSlider(value=6, max=10)\n",
        "display(slider)\n",
        "\n"
      ],
      "metadata": {
        "colab": {
          "base_uri": "https://localhost:8080/",
          "height": 49,
          "referenced_widgets": [
            "a7e15af14a0f486fa65b01837349802f",
            "87171899dd344ec599e24ae3d2e61459",
            "97dc0856a776408493930d220a439e30"
          ]
        },
        "id": "ezDwhGeVQ-DI",
        "outputId": "c83757f1-df5e-4222-f7c4-2860a4cf3cbd"
      },
      "execution_count": 88,
      "outputs": [
        {
          "output_type": "display_data",
          "data": {
            "text/plain": [
              "IntSlider(value=6, max=10)"
            ],
            "application/vnd.jupyter.widget-view+json": {
              "version_major": 2,
              "version_minor": 0,
              "model_id": "a7e15af14a0f486fa65b01837349802f"
            }
          },
          "metadata": {}
        }
      ]
    }
  ]
}